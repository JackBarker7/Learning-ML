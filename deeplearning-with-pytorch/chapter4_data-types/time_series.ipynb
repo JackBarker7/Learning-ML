{
 "cells": [
  {
   "cell_type": "code",
   "execution_count": 2,
   "metadata": {},
   "outputs": [],
   "source": [
    "import torch\n",
    "import numpy as np"
   ]
  },
  {
   "cell_type": "code",
   "execution_count": 3,
   "metadata": {},
   "outputs": [
    {
     "data": {
      "text/plain": [
       "tensor([6.0000, 1.0000, 1.0000, 0.0000, 1.0000, 5.0000, 0.0000, 6.0000, 0.0000,\n",
       "        2.0000, 0.2400, 0.2576, 0.7500, 0.0896, 0.0000, 1.0000, 1.0000])"
      ]
     },
     "execution_count": 3,
     "metadata": {},
     "output_type": "execute_result"
    }
   ],
   "source": [
    "bikes_numpy = np.loadtxt(\n",
    "    \"../data/p1ch4/bike-sharing-dataset/hour-fixed.csv\",\n",
    "    dtype=np.float32,\n",
    "    delimiter=\",\",\n",
    "    skiprows=1,\n",
    "    converters={1: lambda x: float(x[8:10])})\n",
    "bikes = torch.from_numpy(bikes_numpy)\n",
    "bikes[5]"
   ]
  },
  {
   "cell_type": "code",
   "execution_count": 4,
   "metadata": {},
   "outputs": [
    {
     "data": {
      "text/plain": [
       "torch.Size([17520, 17])"
      ]
     },
     "execution_count": 4,
     "metadata": {},
     "output_type": "execute_result"
    }
   ],
   "source": [
    "bikes.shape"
   ]
  },
  {
   "cell_type": "markdown",
   "metadata": {},
   "source": [
    "We now want to split our data into 24h chunks"
   ]
  },
  {
   "cell_type": "code",
   "execution_count": 5,
   "metadata": {},
   "outputs": [
    {
     "data": {
      "text/plain": [
       "(torch.Size([17520, 17]), (17, 1))"
      ]
     },
     "execution_count": 5,
     "metadata": {},
     "output_type": "execute_result"
    }
   ],
   "source": [
    "bikes.shape, bikes.stride()"
   ]
  },
  {
   "cell_type": "code",
   "execution_count": 8,
   "metadata": {},
   "outputs": [
    {
     "data": {
      "text/plain": [
       "torch.Size([730, 24, 17])"
      ]
     },
     "execution_count": 8,
     "metadata": {},
     "output_type": "execute_result"
    }
   ],
   "source": [
    "daily_bikes = bikes.view(-1, 24, bikes.shape[1])\n",
    "\n",
    "# provides a new way to view the data, at basically 0 computational cost;\n",
    "# 24 means 24 hours in a day\n",
    "# bikes.shape[1] makes sure we still have all 17 columns\n",
    "# the -1 tells pytorch to work out that index by itself\n",
    "\n",
    "daily_bikes.shape\n",
    "\n",
    "# we now have 730 days worth of data split up"
   ]
  },
  {
   "cell_type": "code",
   "execution_count": 11,
   "metadata": {},
   "outputs": [
    {
     "data": {
      "text/plain": [
       "torch.Size([730, 17, 24])"
      ]
     },
     "execution_count": 11,
     "metadata": {},
     "output_type": "execute_result"
    }
   ],
   "source": [
    "# we now change the ordering to be number of days (N), columns (C), length of batch (L)\n",
    "daily_bikes = daily_bikes.transpose(1, 2) # flips (transposes) the first and second dimensions\n",
    "\n",
    "daily_bikes.shape\n"
   ]
  },
  {
   "cell_type": "markdown",
   "metadata": {},
   "source": [
    "The “weather situation” variable is ordinal. It has four levels: 1 for good weather, and 4 for, er, really bad. We could treat this variable as categorical, with levels interpreted as labels, or as a continuous variable. If we decided to go with categorical, we would turn the variable into a one-hot-encoded vector and concatenate the columns with the dataset"
   ]
  },
  {
   "cell_type": "code",
   "execution_count": 14,
   "metadata": {},
   "outputs": [
    {
     "data": {
      "text/plain": [
       "torch.Size([24, 17])"
      ]
     },
     "execution_count": 14,
     "metadata": {},
     "output_type": "execute_result"
    }
   ],
   "source": [
    "first_day = bikes[:24].long()\n",
    "first_day.shape"
   ]
  },
  {
   "cell_type": "code",
   "execution_count": 15,
   "metadata": {},
   "outputs": [
    {
     "data": {
      "text/plain": [
       "tensor([1, 1, 1, 1, 1, 2, 1, 1, 1, 1, 1, 1, 1, 2, 2, 2, 2, 2, 3, 3, 2, 2, 2, 2])"
      ]
     },
     "execution_count": 15,
     "metadata": {},
     "output_type": "execute_result"
    }
   ],
   "source": [
    "weather_onehot = torch.zeros(first_day.shape[0], 4)\n",
    "first_day[:, 9]"
   ]
  },
  {
   "cell_type": "code",
   "execution_count": 16,
   "metadata": {},
   "outputs": [
    {
     "data": {
      "text/plain": [
       "tensor([[1., 0., 0., 0.],\n",
       "        [1., 0., 0., 0.],\n",
       "        [1., 0., 0., 0.],\n",
       "        [1., 0., 0., 0.],\n",
       "        [1., 0., 0., 0.],\n",
       "        [0., 1., 0., 0.],\n",
       "        [1., 0., 0., 0.],\n",
       "        [1., 0., 0., 0.],\n",
       "        [1., 0., 0., 0.],\n",
       "        [1., 0., 0., 0.],\n",
       "        [1., 0., 0., 0.],\n",
       "        [1., 0., 0., 0.],\n",
       "        [1., 0., 0., 0.],\n",
       "        [0., 1., 0., 0.],\n",
       "        [0., 1., 0., 0.],\n",
       "        [0., 1., 0., 0.],\n",
       "        [0., 1., 0., 0.],\n",
       "        [0., 1., 0., 0.],\n",
       "        [0., 0., 1., 0.],\n",
       "        [0., 0., 1., 0.],\n",
       "        [0., 1., 0., 0.],\n",
       "        [0., 1., 0., 0.],\n",
       "        [0., 1., 0., 0.],\n",
       "        [0., 1., 0., 0.]])"
      ]
     },
     "execution_count": 16,
     "metadata": {},
     "output_type": "execute_result"
    }
   ],
   "source": [
    "# note the use of unsqueeze. From the documentation:\n",
    "# [unsqueeze] Returns a new tensor with a dimension of size one inserted at the specified position.\n",
    "\n",
    "weather_onehot.scatter_(\n",
    "    dim=1,\n",
    "    index=first_day[:, 9].unsqueeze(1).long()-1,\n",
    "    value=1.0\n",
    ")"
   ]
  },
  {
   "cell_type": "code",
   "execution_count": 17,
   "metadata": {},
   "outputs": [
    {
     "data": {
      "text/plain": [
       "tensor([[1.0000e+00, 1.0000e+00, 1.0000e+00, 0.0000e+00, 1.0000e+00, 0.0000e+00,\n",
       "         0.0000e+00, 6.0000e+00, 0.0000e+00, 1.0000e+00, 2.4000e-01, 2.8790e-01,\n",
       "         8.1000e-01, 0.0000e+00, 3.0000e+00, 1.3000e+01, 1.6000e+01, 1.0000e+00,\n",
       "         0.0000e+00, 0.0000e+00, 0.0000e+00],\n",
       "        [2.0000e+00, 1.0000e+00, 1.0000e+00, 0.0000e+00, 1.0000e+00, 1.0000e+00,\n",
       "         0.0000e+00, 6.0000e+00, 0.0000e+00, 1.0000e+00, 2.2000e-01, 2.7270e-01,\n",
       "         8.0000e-01, 0.0000e+00, 8.0000e+00, 3.2000e+01, 4.0000e+01, 1.0000e+00,\n",
       "         0.0000e+00, 0.0000e+00, 0.0000e+00],\n",
       "        [3.0000e+00, 1.0000e+00, 1.0000e+00, 0.0000e+00, 1.0000e+00, 2.0000e+00,\n",
       "         0.0000e+00, 6.0000e+00, 0.0000e+00, 1.0000e+00, 2.2000e-01, 2.7270e-01,\n",
       "         8.0000e-01, 0.0000e+00, 5.0000e+00, 2.7000e+01, 3.2000e+01, 1.0000e+00,\n",
       "         0.0000e+00, 0.0000e+00, 0.0000e+00],\n",
       "        [4.0000e+00, 1.0000e+00, 1.0000e+00, 0.0000e+00, 1.0000e+00, 3.0000e+00,\n",
       "         0.0000e+00, 6.0000e+00, 0.0000e+00, 1.0000e+00, 2.4000e-01, 2.8790e-01,\n",
       "         7.5000e-01, 0.0000e+00, 3.0000e+00, 1.0000e+01, 1.3000e+01, 1.0000e+00,\n",
       "         0.0000e+00, 0.0000e+00, 0.0000e+00],\n",
       "        [5.0000e+00, 1.0000e+00, 1.0000e+00, 0.0000e+00, 1.0000e+00, 4.0000e+00,\n",
       "         0.0000e+00, 6.0000e+00, 0.0000e+00, 1.0000e+00, 2.4000e-01, 2.8790e-01,\n",
       "         7.5000e-01, 0.0000e+00, 0.0000e+00, 1.0000e+00, 1.0000e+00, 1.0000e+00,\n",
       "         0.0000e+00, 0.0000e+00, 0.0000e+00],\n",
       "        [6.0000e+00, 1.0000e+00, 1.0000e+00, 0.0000e+00, 1.0000e+00, 5.0000e+00,\n",
       "         0.0000e+00, 6.0000e+00, 0.0000e+00, 2.0000e+00, 2.4000e-01, 2.5760e-01,\n",
       "         7.5000e-01, 8.9600e-02, 0.0000e+00, 1.0000e+00, 1.0000e+00, 0.0000e+00,\n",
       "         1.0000e+00, 0.0000e+00, 0.0000e+00],\n",
       "        [7.0000e+00, 1.0000e+00, 1.0000e+00, 0.0000e+00, 1.0000e+00, 6.0000e+00,\n",
       "         0.0000e+00, 6.0000e+00, 0.0000e+00, 1.0000e+00, 2.2000e-01, 2.7270e-01,\n",
       "         8.0000e-01, 0.0000e+00, 2.0000e+00, 0.0000e+00, 2.0000e+00, 1.0000e+00,\n",
       "         0.0000e+00, 0.0000e+00, 0.0000e+00],\n",
       "        [8.0000e+00, 1.0000e+00, 1.0000e+00, 0.0000e+00, 1.0000e+00, 7.0000e+00,\n",
       "         0.0000e+00, 6.0000e+00, 0.0000e+00, 1.0000e+00, 2.0000e-01, 2.5760e-01,\n",
       "         8.6000e-01, 0.0000e+00, 1.0000e+00, 2.0000e+00, 3.0000e+00, 1.0000e+00,\n",
       "         0.0000e+00, 0.0000e+00, 0.0000e+00],\n",
       "        [9.0000e+00, 1.0000e+00, 1.0000e+00, 0.0000e+00, 1.0000e+00, 8.0000e+00,\n",
       "         0.0000e+00, 6.0000e+00, 0.0000e+00, 1.0000e+00, 2.4000e-01, 2.8790e-01,\n",
       "         7.5000e-01, 0.0000e+00, 1.0000e+00, 7.0000e+00, 8.0000e+00, 1.0000e+00,\n",
       "         0.0000e+00, 0.0000e+00, 0.0000e+00],\n",
       "        [1.0000e+01, 1.0000e+00, 1.0000e+00, 0.0000e+00, 1.0000e+00, 9.0000e+00,\n",
       "         0.0000e+00, 6.0000e+00, 0.0000e+00, 1.0000e+00, 3.2000e-01, 3.4850e-01,\n",
       "         7.6000e-01, 0.0000e+00, 8.0000e+00, 6.0000e+00, 1.4000e+01, 1.0000e+00,\n",
       "         0.0000e+00, 0.0000e+00, 0.0000e+00],\n",
       "        [1.1000e+01, 1.0000e+00, 1.0000e+00, 0.0000e+00, 1.0000e+00, 1.0000e+01,\n",
       "         0.0000e+00, 6.0000e+00, 0.0000e+00, 1.0000e+00, 3.8000e-01, 3.9390e-01,\n",
       "         7.6000e-01, 2.5370e-01, 1.2000e+01, 2.4000e+01, 3.6000e+01, 1.0000e+00,\n",
       "         0.0000e+00, 0.0000e+00, 0.0000e+00],\n",
       "        [1.2000e+01, 1.0000e+00, 1.0000e+00, 0.0000e+00, 1.0000e+00, 1.1000e+01,\n",
       "         0.0000e+00, 6.0000e+00, 0.0000e+00, 1.0000e+00, 3.6000e-01, 3.3330e-01,\n",
       "         8.1000e-01, 2.8360e-01, 2.6000e+01, 3.0000e+01, 5.6000e+01, 1.0000e+00,\n",
       "         0.0000e+00, 0.0000e+00, 0.0000e+00],\n",
       "        [1.3000e+01, 1.0000e+00, 1.0000e+00, 0.0000e+00, 1.0000e+00, 1.2000e+01,\n",
       "         0.0000e+00, 6.0000e+00, 0.0000e+00, 1.0000e+00, 4.2000e-01, 4.2420e-01,\n",
       "         7.7000e-01, 2.8360e-01, 2.9000e+01, 5.5000e+01, 8.4000e+01, 1.0000e+00,\n",
       "         0.0000e+00, 0.0000e+00, 0.0000e+00],\n",
       "        [1.4000e+01, 1.0000e+00, 1.0000e+00, 0.0000e+00, 1.0000e+00, 1.3000e+01,\n",
       "         0.0000e+00, 6.0000e+00, 0.0000e+00, 2.0000e+00, 4.6000e-01, 4.5450e-01,\n",
       "         7.2000e-01, 2.9850e-01, 4.7000e+01, 4.7000e+01, 9.4000e+01, 0.0000e+00,\n",
       "         1.0000e+00, 0.0000e+00, 0.0000e+00],\n",
       "        [1.5000e+01, 1.0000e+00, 1.0000e+00, 0.0000e+00, 1.0000e+00, 1.4000e+01,\n",
       "         0.0000e+00, 6.0000e+00, 0.0000e+00, 2.0000e+00, 4.6000e-01, 4.5450e-01,\n",
       "         7.2000e-01, 2.8360e-01, 3.5000e+01, 7.1000e+01, 1.0600e+02, 0.0000e+00,\n",
       "         1.0000e+00, 0.0000e+00, 0.0000e+00],\n",
       "        [1.6000e+01, 1.0000e+00, 1.0000e+00, 0.0000e+00, 1.0000e+00, 1.5000e+01,\n",
       "         0.0000e+00, 6.0000e+00, 0.0000e+00, 2.0000e+00, 4.4000e-01, 4.3940e-01,\n",
       "         7.7000e-01, 2.9850e-01, 4.0000e+01, 7.0000e+01, 1.1000e+02, 0.0000e+00,\n",
       "         1.0000e+00, 0.0000e+00, 0.0000e+00],\n",
       "        [1.7000e+01, 1.0000e+00, 1.0000e+00, 0.0000e+00, 1.0000e+00, 1.6000e+01,\n",
       "         0.0000e+00, 6.0000e+00, 0.0000e+00, 2.0000e+00, 4.2000e-01, 4.2420e-01,\n",
       "         8.2000e-01, 2.9850e-01, 4.1000e+01, 5.2000e+01, 9.3000e+01, 0.0000e+00,\n",
       "         1.0000e+00, 0.0000e+00, 0.0000e+00],\n",
       "        [1.8000e+01, 1.0000e+00, 1.0000e+00, 0.0000e+00, 1.0000e+00, 1.7000e+01,\n",
       "         0.0000e+00, 6.0000e+00, 0.0000e+00, 2.0000e+00, 4.4000e-01, 4.3940e-01,\n",
       "         8.2000e-01, 2.8360e-01, 1.5000e+01, 5.2000e+01, 6.7000e+01, 0.0000e+00,\n",
       "         1.0000e+00, 0.0000e+00, 0.0000e+00],\n",
       "        [1.9000e+01, 1.0000e+00, 1.0000e+00, 0.0000e+00, 1.0000e+00, 1.8000e+01,\n",
       "         0.0000e+00, 6.0000e+00, 0.0000e+00, 3.0000e+00, 4.2000e-01, 4.2420e-01,\n",
       "         8.8000e-01, 2.5370e-01, 9.0000e+00, 2.6000e+01, 3.5000e+01, 0.0000e+00,\n",
       "         0.0000e+00, 1.0000e+00, 0.0000e+00],\n",
       "        [2.0000e+01, 1.0000e+00, 1.0000e+00, 0.0000e+00, 1.0000e+00, 1.9000e+01,\n",
       "         0.0000e+00, 6.0000e+00, 0.0000e+00, 3.0000e+00, 4.2000e-01, 4.2420e-01,\n",
       "         8.8000e-01, 2.5370e-01, 6.0000e+00, 3.1000e+01, 3.7000e+01, 0.0000e+00,\n",
       "         0.0000e+00, 1.0000e+00, 0.0000e+00],\n",
       "        [2.1000e+01, 1.0000e+00, 1.0000e+00, 0.0000e+00, 1.0000e+00, 2.0000e+01,\n",
       "         0.0000e+00, 6.0000e+00, 0.0000e+00, 2.0000e+00, 4.0000e-01, 4.0910e-01,\n",
       "         8.7000e-01, 2.5370e-01, 1.1000e+01, 2.5000e+01, 3.6000e+01, 0.0000e+00,\n",
       "         1.0000e+00, 0.0000e+00, 0.0000e+00],\n",
       "        [2.2000e+01, 1.0000e+00, 1.0000e+00, 0.0000e+00, 1.0000e+00, 2.1000e+01,\n",
       "         0.0000e+00, 6.0000e+00, 0.0000e+00, 2.0000e+00, 4.0000e-01, 4.0910e-01,\n",
       "         8.7000e-01, 1.9400e-01, 3.0000e+00, 3.1000e+01, 3.4000e+01, 0.0000e+00,\n",
       "         1.0000e+00, 0.0000e+00, 0.0000e+00],\n",
       "        [2.3000e+01, 1.0000e+00, 1.0000e+00, 0.0000e+00, 1.0000e+00, 2.2000e+01,\n",
       "         0.0000e+00, 6.0000e+00, 0.0000e+00, 2.0000e+00, 4.0000e-01, 4.0910e-01,\n",
       "         9.4000e-01, 2.2390e-01, 1.1000e+01, 1.7000e+01, 2.8000e+01, 0.0000e+00,\n",
       "         1.0000e+00, 0.0000e+00, 0.0000e+00],\n",
       "        [2.4000e+01, 1.0000e+00, 1.0000e+00, 0.0000e+00, 1.0000e+00, 2.3000e+01,\n",
       "         0.0000e+00, 6.0000e+00, 0.0000e+00, 2.0000e+00, 4.6000e-01, 4.5450e-01,\n",
       "         8.8000e-01, 2.9850e-01, 1.5000e+01, 2.4000e+01, 3.9000e+01, 0.0000e+00,\n",
       "         1.0000e+00, 0.0000e+00, 0.0000e+00]])"
      ]
     },
     "execution_count": 17,
     "metadata": {},
     "output_type": "execute_result"
    }
   ],
   "source": [
    "torch.cat((bikes[:24], weather_onehot), 1) # concaternate along dimension 1 (the columns)"
   ]
  },
  {
   "cell_type": "markdown",
   "metadata": {},
   "source": [
    "Instead of onehot encoding, we can also rescale the column from 0 to 1:"
   ]
  },
  {
   "cell_type": "code",
   "execution_count": null,
   "metadata": {},
   "outputs": [],
   "source": [
    "daily_bikes[:, 9, :] = (daily_bikes[:, 9, :] - 1/0)/3.0 # change to 0, 1, 2, 3 then div by 3"
   ]
  },
  {
   "cell_type": "markdown",
   "metadata": {},
   "source": [
    "And we can also rescale other data:"
   ]
  },
  {
   "cell_type": "code",
   "execution_count": null,
   "metadata": {},
   "outputs": [],
   "source": [
    "temp = daily_bikes[:, 10, :]\n",
    "\n",
    "temp_min = torch.min(temp)\n",
    "temp_max = torch.max(temp)\n",
    "daily_bikes[:, 10, :] = ((daily_bikes[:, 10, :] - temp_min) / (temp_max - temp_min)) # maps range to [0,1]\n",
    "\n",
    "temp = daily_bikes[:, 10, :]\n",
    "daily_bikes[:, 10, :] = ((daily_bikes[:, 10, :] - torch.mean(temp))\n",
    "                         / torch.std(temp)) # gets mean of 0 and sd of 1\n",
    "\n"
   ]
  }
 ],
 "metadata": {
  "kernelspec": {
   "display_name": "env",
   "language": "python",
   "name": "python3"
  },
  "language_info": {
   "codemirror_mode": {
    "name": "ipython",
    "version": 3
   },
   "file_extension": ".py",
   "mimetype": "text/x-python",
   "name": "python",
   "nbconvert_exporter": "python",
   "pygments_lexer": "ipython3",
   "version": "3.11.0"
  },
  "orig_nbformat": 4
 },
 "nbformat": 4,
 "nbformat_minor": 2
}
