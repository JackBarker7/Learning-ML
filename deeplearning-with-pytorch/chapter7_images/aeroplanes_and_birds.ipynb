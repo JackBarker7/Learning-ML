{
 "cells": [
  {
   "cell_type": "code",
   "execution_count": 12,
   "metadata": {},
   "outputs": [],
   "source": [
    "import torch\n",
    "from torchvision import datasets, transforms\n",
    "import matplotlib.pyplot as plt\n",
    "import numpy as np\n"
   ]
  },
  {
   "cell_type": "code",
   "execution_count": 13,
   "metadata": {},
   "outputs": [],
   "source": [
    "data_path = '../data-unversioned/p1ch7/'\n",
    "\n",
    "cifar10 = datasets.CIFAR10(\n",
    "    data_path, train=True, download=False,\n",
    "    transform=transforms.Compose([\n",
    "        transforms.ToTensor(),\n",
    "        transforms.Normalize((0.4915, 0.4823, 0.4468), # mean and sd, calculated previously\n",
    "                             (0.2470, 0.2435, 0.2616))\n",
    "    ]))\n",
    "\n",
    "\n",
    "cifar10_val = datasets.CIFAR10(\n",
    "    data_path, train=False, download=False,\n",
    "    transform=transforms.Compose([\n",
    "        transforms.ToTensor(),\n",
    "        transforms.Normalize((0.4915, 0.4823, 0.4468),\n",
    "                             (0.2470, 0.2435, 0.2616))\n",
    "    ]))"
   ]
  },
  {
   "cell_type": "code",
   "execution_count": 14,
   "metadata": {},
   "outputs": [],
   "source": [
    "label_map = {0: 0, 2: 1}\n",
    "class_names = ['airplane', 'bird']\n",
    "cifar2 = [(img, label_map[label])\n",
    "          for img, label in cifar10\n",
    "          if label in [0, 2]]\n",
    "cifar2_val = [(img, label_map[label])\n",
    "              for img, label in cifar10_val\n",
    "              if label in [0, 2]]"
   ]
  },
  {
   "cell_type": "markdown",
   "metadata": {},
   "source": [
    "Neural net:"
   ]
  },
  {
   "cell_type": "code",
   "execution_count": 15,
   "metadata": {},
   "outputs": [],
   "source": [
    "import torch.nn as nn\n",
    "\n",
    "n_out = 2\n",
    "\n",
    "model = nn.Sequential(\n",
    "    nn.Linear(3072, 512), # arbitrary 512 hiddden features\n",
    "    nn.Tanh(),\n",
    "    nn.Linear(512, n_out),\n",
    "    nn.Softmax(dim=1)\n",
    ")"
   ]
  },
  {
   "cell_type": "markdown",
   "metadata": {},
   "source": [
    "We can try running the untrained model on an image:"
   ]
  },
  {
   "cell_type": "code",
   "execution_count": 18,
   "metadata": {},
   "outputs": [
    {
     "data": {
      "text/plain": [
       "torch.Size([3, 32, 32])"
      ]
     },
     "execution_count": 18,
     "metadata": {},
     "output_type": "execute_result"
    }
   ],
   "source": [
    "img, _ = cifar2[0]\n",
    "\n",
    "img.shape"
   ]
  },
  {
   "cell_type": "markdown",
   "metadata": {},
   "source": [
    "Convert image to vector, and then add an extra dimension"
   ]
  },
  {
   "cell_type": "code",
   "execution_count": 20,
   "metadata": {},
   "outputs": [
    {
     "data": {
      "text/plain": [
       "tensor([[0.3697, 0.6303]], grad_fn=<SoftmaxBackward0>)"
      ]
     },
     "execution_count": 20,
     "metadata": {},
     "output_type": "execute_result"
    }
   ],
   "source": [
    "img_batch = img.view(-1).unsqueeze(0)\n",
    "\n",
    "model(img_batch)"
   ]
  },
  {
   "cell_type": "markdown",
   "metadata": {},
   "source": [
    "To use the NLL, we have to take the log ourselves:"
   ]
  },
  {
   "cell_type": "code",
   "execution_count": null,
   "metadata": {},
   "outputs": [],
   "source": [
    "model = nn.Sequential(\n",
    "    nn.Linear(3072, 512), # arbitrary 512 hiddden features\n",
    "    nn.Tanh(),\n",
    "    nn.Linear(512, 2),\n",
    "    nn.LogSoftmax(dim=1)\n",
    ")\n",
    "\n",
    "loss = nn.NLLLoss()"
   ]
  },
  {
   "cell_type": "markdown",
   "metadata": {},
   "source": [
    "## Training"
   ]
  },
  {
   "cell_type": "code",
   "execution_count": null,
   "metadata": {},
   "outputs": [],
   "source": [
    "import torch\n",
    "import torch.nn as nn\n",
    "import torch.optim as optim\n",
    " \n",
    "model = nn.Sequential(\n",
    "            nn.Linear(3072, 512),\n",
    "            nn.Tanh(),\n",
    "            nn.Linear(512, 2),\n",
    "            nn.LogSoftmax(dim=1))\n",
    " \n",
    "learning_rate = 1e-2\n",
    " \n",
    "optimizer = optim.SGD(model.parameters(), lr=learning_rate)\n",
    " \n",
    "loss_fn = nn.NLLLoss()\n",
    " \n",
    "n_epochs = 100\n",
    " \n",
    "for epoch in range(n_epochs):\n",
    "    for img, label in cifar2:\n",
    "        out = model(img.view(-1).unsqueeze(0))\n",
    "        loss = loss_fn(out, torch.tensor([label]))\n",
    " \n",
    "        optimizer.zero_grad()\n",
    "        loss.backward()\n",
    "        optimizer.step()\n",
    " \n",
    "    print(\"Epoch: %d, Loss: %f\" % (epoch, float(loss)))"
   ]
  },
  {
   "cell_type": "markdown",
   "metadata": {},
   "source": [
    "Here we had a batch size of 1. However, using dataloaders, we can define our own batch size, and introduce shuffling"
   ]
  },
  {
   "cell_type": "code",
   "execution_count": 25,
   "metadata": {},
   "outputs": [
    {
     "name": "stdout",
     "output_type": "stream",
     "text": [
      "Epoch: 0, Loss: 0.440426\n",
      "Epoch: 1, Loss: 0.454341\n",
      "Epoch: 2, Loss: 0.415200\n",
      "Epoch: 3, Loss: 0.594881\n",
      "Epoch: 4, Loss: 0.682169\n",
      "Epoch: 5, Loss: 0.328828\n",
      "Epoch: 6, Loss: 0.351497\n",
      "Epoch: 7, Loss: 0.395594\n",
      "Epoch: 8, Loss: 0.658749\n",
      "Epoch: 9, Loss: 0.179220\n",
      "Epoch: 10, Loss: 0.684045\n",
      "Epoch: 11, Loss: 0.427414\n",
      "Epoch: 12, Loss: 0.553806\n",
      "Epoch: 13, Loss: 0.272633\n",
      "Epoch: 14, Loss: 0.519202\n",
      "Epoch: 15, Loss: 0.444048\n",
      "Epoch: 16, Loss: 0.350012\n",
      "Epoch: 17, Loss: 0.439343\n",
      "Epoch: 18, Loss: 0.372027\n",
      "Epoch: 19, Loss: 0.317420\n",
      "Epoch: 20, Loss: 0.228976\n",
      "Epoch: 21, Loss: 0.196509\n",
      "Epoch: 22, Loss: 0.356990\n",
      "Epoch: 23, Loss: 0.208268\n",
      "Epoch: 24, Loss: 0.274760\n",
      "Epoch: 25, Loss: 0.372228\n",
      "Epoch: 26, Loss: 0.191447\n",
      "Epoch: 27, Loss: 0.182893\n",
      "Epoch: 28, Loss: 0.412579\n",
      "Epoch: 29, Loss: 0.181992\n",
      "Epoch: 30, Loss: 0.212724\n",
      "Epoch: 31, Loss: 0.038079\n",
      "Epoch: 32, Loss: 0.322014\n",
      "Epoch: 33, Loss: 0.493585\n",
      "Epoch: 34, Loss: 0.203102\n",
      "Epoch: 35, Loss: 0.368076\n",
      "Epoch: 36, Loss: 0.122943\n",
      "Epoch: 37, Loss: 0.051233\n",
      "Epoch: 38, Loss: 0.219500\n",
      "Epoch: 39, Loss: 0.061838\n",
      "Epoch: 40, Loss: 0.971985\n",
      "Epoch: 41, Loss: 0.092131\n",
      "Epoch: 42, Loss: 0.150521\n",
      "Epoch: 43, Loss: 0.035833\n",
      "Epoch: 44, Loss: 0.068590\n",
      "Epoch: 45, Loss: 0.350757\n",
      "Epoch: 46, Loss: 0.070993\n",
      "Epoch: 47, Loss: 0.031920\n",
      "Epoch: 48, Loss: 0.014302\n",
      "Epoch: 49, Loss: 0.095349\n",
      "Epoch: 50, Loss: 0.042420\n",
      "Epoch: 51, Loss: 0.008813\n",
      "Epoch: 52, Loss: 0.008562\n",
      "Epoch: 53, Loss: 0.027644\n",
      "Epoch: 54, Loss: 0.296939\n",
      "Epoch: 55, Loss: 0.008432\n",
      "Epoch: 56, Loss: 0.027980\n",
      "Epoch: 57, Loss: 0.002663\n",
      "Epoch: 58, Loss: 0.087502\n",
      "Epoch: 59, Loss: 0.240380\n",
      "Epoch: 60, Loss: 0.004191\n",
      "Epoch: 61, Loss: 0.003669\n",
      "Epoch: 62, Loss: 0.006962\n",
      "Epoch: 63, Loss: 0.029493\n",
      "Epoch: 64, Loss: 0.004525\n",
      "Epoch: 65, Loss: 0.042551\n",
      "Epoch: 66, Loss: 0.012067\n",
      "Epoch: 67, Loss: 0.050939\n",
      "Epoch: 68, Loss: 0.001527\n",
      "Epoch: 69, Loss: 0.018659\n",
      "Epoch: 70, Loss: 0.022803\n",
      "Epoch: 71, Loss: 0.016616\n",
      "Epoch: 72, Loss: 0.002776\n",
      "Epoch: 73, Loss: 0.011581\n",
      "Epoch: 74, Loss: 0.003631\n",
      "Epoch: 75, Loss: 0.003302\n",
      "Epoch: 76, Loss: 0.010020\n",
      "Epoch: 77, Loss: 0.004197\n",
      "Epoch: 78, Loss: 0.005163\n",
      "Epoch: 79, Loss: 0.004281\n",
      "Epoch: 80, Loss: 0.002869\n",
      "Epoch: 81, Loss: 0.008898\n",
      "Epoch: 82, Loss: 0.006454\n",
      "Epoch: 83, Loss: 0.008628\n",
      "Epoch: 84, Loss: 0.002853\n",
      "Epoch: 85, Loss: 0.002753\n",
      "Epoch: 86, Loss: 0.000852\n",
      "Epoch: 87, Loss: 0.000411\n",
      "Epoch: 88, Loss: 0.000779\n",
      "Epoch: 89, Loss: 0.000576\n",
      "Epoch: 90, Loss: 0.000846\n",
      "Epoch: 91, Loss: 0.005667\n",
      "Epoch: 92, Loss: 0.003172\n",
      "Epoch: 93, Loss: 0.003342\n",
      "Epoch: 94, Loss: 0.002401\n",
      "Epoch: 95, Loss: 0.073016\n",
      "Epoch: 96, Loss: 0.002990\n",
      "Epoch: 97, Loss: 0.002340\n",
      "Epoch: 98, Loss: 0.000461\n",
      "Epoch: 99, Loss: 0.000574\n"
     ]
    }
   ],
   "source": [
    "import torch\n",
    "import torch.nn as nn\n",
    "import torch.optim as optim\n",
    "\n",
    "train_loader = torch.utils.data.DataLoader(cifar2, batch_size=64,\n",
    "                                           shuffle=True)\n",
    "\n",
    "\"\"\"model = nn.Sequential(\n",
    "            nn.Linear(3072, 512),\n",
    "            nn.Tanh(),\n",
    "            nn.Linear(512, 2),\n",
    "            nn.LogSoftmax(dim=1))\n",
    "\"\"\"\n",
    "\n",
    "model = nn.Sequential(\n",
    "            nn.Linear(3072, 1024),\n",
    "            nn.Tanh(),\n",
    "            nn.Linear(1024, 512),\n",
    "            nn.Tanh(),\n",
    "            nn.Linear(512, 128),\n",
    "            nn.Tanh(),\n",
    "            nn.Linear(128, 2),\n",
    "            nn.LogSoftmax(dim=1))\n",
    "\n",
    "learning_rate = 1e-2\n",
    "\n",
    "optimizer = optim.SGD(model.parameters(), lr=learning_rate)\n",
    "\n",
    "loss_fn = nn.NLLLoss()\n",
    "\n",
    "n_epochs = 100\n",
    " \n",
    "for epoch in range(n_epochs):\n",
    "    for imgs, labels in train_loader:\n",
    "        batch_size = imgs.shape[0]\n",
    "        outputs = model(imgs.view(batch_size, -1))\n",
    "        loss = loss_fn(outputs, labels)\n",
    " \n",
    "        optimizer.zero_grad()\n",
    "        loss.backward()\n",
    "        optimizer.step()\n",
    " \n",
    "    print(\"Epoch: %d, Loss: %f\" % (epoch, float(loss)))"
   ]
  },
  {
   "cell_type": "code",
   "execution_count": 23,
   "metadata": {},
   "outputs": [
    {
     "name": "stdout",
     "output_type": "stream",
     "text": [
      "Accuracy: %f 0.8075\n"
     ]
    }
   ],
   "source": [
    "val_loader = torch.utils.data.DataLoader(cifar2_val, batch_size=64,\n",
    "                                         shuffle=False)\n",
    " \n",
    "correct = 0\n",
    "total = 0\n",
    " \n",
    "with torch.no_grad():\n",
    "    for imgs, labels in val_loader:\n",
    "        batch_size = imgs.shape[0]\n",
    "        outputs = model(imgs.view(batch_size, -1))\n",
    "        _, predicted = torch.max(outputs, dim=1)\n",
    "        total += labels.shape[0]\n",
    "        correct += int((predicted == labels).sum())\n",
    " \n",
    "print(\"Accuracy: %f\", correct / total)"
   ]
  },
  {
   "cell_type": "code",
   "execution_count": 24,
   "metadata": {},
   "outputs": [],
   "source": [
    "model = nn.Sequential(\n",
    "            nn.Linear(3072, 1024),\n",
    "            nn.Tanh(),\n",
    "            nn.Linear(1024, 512),\n",
    "            nn.Tanh(),\n",
    "            nn.Linear(512, 128),\n",
    "            nn.Tanh(),\n",
    "            nn.Linear(128, 2),\n",
    "            nn.LogSoftmax(dim=1))"
   ]
  }
 ],
 "metadata": {
  "kernelspec": {
   "display_name": "env",
   "language": "python",
   "name": "python3"
  },
  "language_info": {
   "codemirror_mode": {
    "name": "ipython",
    "version": 3
   },
   "file_extension": ".py",
   "mimetype": "text/x-python",
   "name": "python",
   "nbconvert_exporter": "python",
   "pygments_lexer": "ipython3",
   "version": "3.11.0"
  },
  "orig_nbformat": 4
 },
 "nbformat": 4,
 "nbformat_minor": 2
}
